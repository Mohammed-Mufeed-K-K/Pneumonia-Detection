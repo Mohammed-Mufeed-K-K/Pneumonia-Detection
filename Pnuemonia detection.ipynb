{
 "cells": [
  {
   "cell_type": "code",
   "execution_count": 1,
   "id": "f87a3ae6",
   "metadata": {},
   "outputs": [
    {
     "name": "stderr",
     "output_type": "stream",
     "text": [
      "New https://pypi.org/project/ultralytics/8.0.188 available  Update with 'pip install -U ultralytics'\n",
      "Ultralytics YOLOv8.0.141  Python-3.11.3 torch-2.0.1+cpu CPU (AMD Ryzen 5 5500U with Radeon Graphics)\n",
      "\u001b[34m\u001b[1mengine\\trainer: \u001b[0mtask=classify, mode=train, model=yolov8m-cls.pt, data=./chest_3class, epochs=10, patience=50, batch=16, imgsz=64, save=True, save_period=-1, cache=False, device=None, workers=8, project=None, name=None, exist_ok=False, pretrained=True, optimizer=auto, verbose=True, seed=0, deterministic=True, single_cls=False, rect=False, cos_lr=False, close_mosaic=10, resume=False, amp=True, fraction=1.0, profile=False, overlap_mask=True, mask_ratio=4, dropout=0.0, val=True, split=val, save_json=False, save_hybrid=False, conf=None, iou=0.7, max_det=300, half=False, dnn=False, plots=True, source=None, show=False, save_txt=False, save_conf=False, save_crop=False, show_labels=True, show_conf=True, vid_stride=1, line_width=None, visualize=False, augment=False, agnostic_nms=False, classes=None, retina_masks=False, boxes=True, format=torchscript, keras=False, optimize=False, int8=False, dynamic=False, simplify=False, opset=None, workspace=4, nms=False, lr0=0.01, lrf=0.01, momentum=0.937, weight_decay=0.0005, warmup_epochs=3.0, warmup_momentum=0.8, warmup_bias_lr=0.1, box=7.5, cls=0.5, dfl=1.5, pose=12.0, kobj=1.0, label_smoothing=0.0, nbs=64, hsv_h=0.015, hsv_s=0.7, hsv_v=0.4, degrees=0.0, translate=0.1, scale=0.5, shear=0.0, perspective=0.0, flipud=0.0, fliplr=0.5, mosaic=1.0, mixup=0.0, copy_paste=0.0, cfg=None, tracker=botsort.yaml, save_dir=runs\\classify\\train2\n",
      "Overriding model.yaml nc=1000 with nc=3\n",
      "\n",
      "                   from  n    params  module                                       arguments                     \n",
      "  0                  -1  1      1392  ultralytics.nn.modules.conv.Conv             [3, 48, 3, 2]                 \n",
      "  1                  -1  1     41664  ultralytics.nn.modules.conv.Conv             [48, 96, 3, 2]                \n",
      "  2                  -1  2    111360  ultralytics.nn.modules.block.C2f             [96, 96, 2, True]             \n",
      "  3                  -1  1    166272  ultralytics.nn.modules.conv.Conv             [96, 192, 3, 2]               \n",
      "  4                  -1  4    813312  ultralytics.nn.modules.block.C2f             [192, 192, 4, True]           \n",
      "  5                  -1  1    664320  ultralytics.nn.modules.conv.Conv             [192, 384, 3, 2]              \n",
      "  6                  -1  4   3248640  ultralytics.nn.modules.block.C2f             [384, 384, 4, True]           \n",
      "  7                  -1  1   2655744  ultralytics.nn.modules.conv.Conv             [384, 768, 3, 2]              \n",
      "  8                  -1  2   7084032  ultralytics.nn.modules.block.C2f             [768, 768, 2, True]           \n",
      "  9                  -1  1    989443  ultralytics.nn.modules.head.Classify         [768, 3]                      \n",
      "YOLOv8m-cls summary: 141 layers, 15776179 parameters, 15776179 gradients\n",
      "Transferred 228/230 items from pretrained weights\n",
      "WARNING  Comet installed but not initialized correctly, not logging this run. Comet.ml requires an API key. Please provide as the first argument to Experiment(api_key) or as an environment variable named COMET_API_KEY \n",
      "\u001b[34m\u001b[1mTensorBoard: \u001b[0mStart with 'tensorboard --logdir runs\\classify\\train2', view at http://localhost:6006/\n",
      "\u001b[34m\u001b[1moptimizer:\u001b[0m AdamW(lr=0.000714, momentum=0.9) with parameter groups 38 weight(decay=0.0), 39 weight(decay=0.0005), 39 bias(decay=0.0)\n",
      "Image sizes 64 train, 64 val\n",
      "Using 0 dataloader workers\n",
      "Logging results to \u001b[1mruns\\classify\\train2\u001b[0m\n",
      "Starting training for 10 epochs...\n",
      "Closing dataloader mosaic\n",
      "\n",
      "      Epoch    GPU_mem       loss  Instances       Size\n",
      "       1/10         0G     0.1796         16         64: 100%|██████████| 327/327 [07:17<00:00,  1.34s/it]\n",
      "               classes   top1_acc   top5_acc: 100%|██████████| 20/20 [00:20<00:00,  1.05s/it]\n",
      "                   all      0.708          1\n",
      "\n",
      "      Epoch    GPU_mem       loss  Instances       Size\n",
      "       2/10         0G      0.121         16         64: 100%|██████████| 327/327 [05:44<00:00,  1.05s/it]\n",
      "               classes   top1_acc   top5_acc: 100%|██████████| 20/20 [00:14<00:00,  1.36it/s]\n",
      "                   all      0.737          1\n",
      "\n",
      "      Epoch    GPU_mem       loss  Instances       Size\n",
      "       3/10         0G     0.1031         16         64: 100%|██████████| 327/327 [05:26<00:00,  1.00it/s]\n",
      "               classes   top1_acc   top5_acc: 100%|██████████| 20/20 [00:14<00:00,  1.36it/s]\n",
      "                   all      0.732          1\n",
      "\n",
      "      Epoch    GPU_mem       loss  Instances       Size\n",
      "       4/10         0G    0.08675         16         64: 100%|██████████| 327/327 [05:27<00:00,  1.00s/it]\n",
      "               classes   top1_acc   top5_acc: 100%|██████████| 20/20 [00:14<00:00,  1.38it/s]\n",
      "                   all      0.784          1\n",
      "\n",
      "      Epoch    GPU_mem       loss  Instances       Size\n",
      "       5/10         0G    0.05518         16         64: 100%|██████████| 327/327 [05:17<00:00,  1.03it/s]\n",
      "               classes   top1_acc   top5_acc: 100%|██████████| 20/20 [00:14<00:00,  1.39it/s]\n",
      "                   all       0.79          1\n",
      "\n",
      "      Epoch    GPU_mem       loss  Instances       Size\n",
      "       6/10         0G    0.02924         16         64: 100%|██████████| 327/327 [05:20<00:00,  1.02it/s]\n",
      "               classes   top1_acc   top5_acc: 100%|██████████| 20/20 [00:15<00:00,  1.33it/s]\n",
      "                   all      0.816          1\n",
      "\n",
      "      Epoch    GPU_mem       loss  Instances       Size\n",
      "       7/10         0G    0.01837         16         64: 100%|██████████| 327/327 [05:14<00:00,  1.04it/s]\n",
      "               classes   top1_acc   top5_acc: 100%|██████████| 20/20 [00:14<00:00,  1.42it/s]\n",
      "                   all       0.79          1\n",
      "\n",
      "      Epoch    GPU_mem       loss  Instances       Size\n",
      "       8/10         0G   0.009572         16         64: 100%|██████████| 327/327 [05:10<00:00,  1.05it/s]\n",
      "               classes   top1_acc   top5_acc: 100%|██████████| 20/20 [00:14<00:00,  1.39it/s]\n",
      "                   all      0.769          1\n",
      "\n",
      "      Epoch    GPU_mem       loss  Instances       Size\n",
      "       9/10         0G   0.003901         16         64: 100%|██████████| 327/327 [05:15<00:00,  1.04it/s]\n",
      "               classes   top1_acc   top5_acc: 100%|██████████| 20/20 [00:14<00:00,  1.38it/s]\n",
      "                   all      0.812          1\n",
      "\n",
      "      Epoch    GPU_mem       loss  Instances       Size\n",
      "      10/10         0G   0.001654         16         64: 100%|██████████| 327/327 [05:29<00:00,  1.01s/it]\n",
      "               classes   top1_acc   top5_acc: 100%|██████████| 20/20 [00:20<00:00,  1.02s/it]\n",
      "                   all      0.793          1\n",
      "\n",
      "10 epochs completed in 0.979 hours.\n",
      "Optimizer stripped from runs\\classify\\train2\\weights\\last.pt, 31.7MB\n",
      "Optimizer stripped from runs\\classify\\train2\\weights\\best.pt, 31.7MB\n",
      "Results saved to \u001b[1mruns\\classify\\train2\u001b[0m\n"
     ]
    }
   ],
   "source": [
    "from ultralytics import YOLO\n",
    "\n",
    "model = YOLO('yolov8m-cls.pt')\n",
    "\n",
    "results = model.train(data='./chest_3class', epochs=10, imgsz=64)"
   ]
  },
  {
   "cell_type": "code",
   "execution_count": 15,
   "id": "b37a8e4e",
   "metadata": {},
   "outputs": [
    {
     "name": "stderr",
     "output_type": "stream",
     "text": [
      "\n",
      "image 1/1 C:\\Users\\91735\\Feynn\\Test\\nm.jpg: 64x64 NORMAL 0.99, BACTERIAL PNEUMONIA 0.01, VIRAL PNUEMONIA 0.00, 49.1ms\n",
      "Speed: 5.3ms preprocess, 49.1ms inference, 2.1ms postprocess per image at shape (1, 3, 64, 64)\n"
     ]
    }
   ],
   "source": [
    "model = YOLO(\".//runs//classify//train2//weights//best.pt\")\n",
    "results = model(\".\\\\Test\\\\nm.jpg\")"
   ]
  },
  {
   "cell_type": "code",
   "execution_count": 16,
   "id": "996354f2",
   "metadata": {},
   "outputs": [
    {
     "name": "stdout",
     "output_type": "stream",
     "text": [
      "NORMAL\n"
     ]
    }
   ],
   "source": [
    "import numpy as np\n",
    "res_dict = results[0].names\n",
    "res_probs = results[0].probs.data.tolist()\n",
    "res_max = res_dict[np.argmax(res_probs)]\n",
    "print(res_max)"
   ]
  },
  {
   "cell_type": "code",
   "execution_count": null,
   "id": "7049e11f",
   "metadata": {},
   "outputs": [],
   "source": []
  }
 ],
 "metadata": {
  "kernelspec": {
   "display_name": "Python 3 (ipykernel)",
   "language": "python",
   "name": "python3"
  },
  "language_info": {
   "codemirror_mode": {
    "name": "ipython",
    "version": 3
   },
   "file_extension": ".py",
   "mimetype": "text/x-python",
   "name": "python",
   "nbconvert_exporter": "python",
   "pygments_lexer": "ipython3",
   "version": "3.11.3"
  }
 },
 "nbformat": 4,
 "nbformat_minor": 5
}
